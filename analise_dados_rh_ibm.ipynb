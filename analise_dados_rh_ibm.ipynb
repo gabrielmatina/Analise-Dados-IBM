{
 "cells": [
  {
   "attachments": {},
   "cell_type": "markdown",
   "id": "5a5baf00",
   "metadata": {},
   "source": [
    "# Análise de Dados do RH da Empresa IBM"
   ]
  },
  {
   "attachments": {},
   "cell_type": "markdown",
   "id": "7e848310",
   "metadata": {},
   "source": [
    "Este projeto consiste na minha primeira análise de dados feita em Python utilizando as bibliotecas pandas, numpy, seaborn e matplotlib. A análise foi realizada nos dados do setor de Recursos Humanos (RH) da empresa IBM, com o objetivo de identificar oportunidades para diminuir os custos operacionais, melhorar a satisfação dos empregados e aumentar a produtividade na empresa.\n",
    "\n",
    "## Sobre o Projeto\n",
    "\n",
    "O projeto de análise de dados do RH da IBM abrangeu as seguintes etapas:\n",
    "\n",
    "1. Coleta dos Dados: Foram coletados os dados relacionados aos funcionários da empresa, incluindo informações sobre desempenho, salários, satisfação, tempo de serviço, entre outros.\n",
    "\n",
    "2. Limpeza e Pré-processamento dos Dados: Foi realizada a limpeza dos dados, removendo valores nulos, tratando outliers e realizando transformações necessárias para deixar os dados adequados para análise.\n",
    "\n",
    "3. Análise Exploratória de Dados: Foram aplicadas técnicas de análise exploratória de dados para obter insights relevantes sobre o RH da empresa. Foram utilizados gráficos, tabelas e estatísticas descritivas para entender a distribuição das variáveis, identificar padrões e detectar correlações.\n",
    "\n",
    "4. Identificação de Oportunidades e Recomendações: Com base nos resultados da análise, foram identificadas oportunidades de melhoria no RH da empresa IBM. Recomendações foram elaboradas visando diminuir os custos operacionais, melhorar a satisfação dos empregados e aumentar a produtividade.\n",
    "\n",
    "## Tecnologias Utilizadas\n",
    "\n",
    "- Python\n",
    "- Bibliotecas: pandas, numpy, seaborn e matplotlib\n",
    "\n",
    "## Como Executar a Análise\n",
    "\n",
    "1. Certifique-se de ter o Python instalado em sua máquina, juntamente com as bibliotecas mencionadas.\n",
    "2. Clone ou faça o download do repositório da análise de dados.\n",
    "3. Navegue até o diretório onde os arquivos estão localizados.\n",
    "4. Execute o arquivo Python contendo o código da análise.\n",
    "5. A análise será executada e os resultados serão exibidos.\n",
    "\n",
    "## Contribuição\n",
    "\n",
    "Contribuições para este projeto são bem-vindas. Sinta-se à vontade para abrir problemas (issues) e enviar pull requests para melhorar a análise de dados.\n",
    "\n",
    "\n"
   ]
  },
  {
   "cell_type": "markdown",
   "id": "8439e248",
   "metadata": {},
   "source": [
    "# 1. Carregando Bibliotecas"
   ]
  },
  {
   "cell_type": "code",
   "execution_count": 12,
   "id": "765f83ab",
   "metadata": {},
   "outputs": [],
   "source": [
    "import pandas as pd\n",
    "import numpy as np\n",
    "\n",
    "import seaborn as sns\n",
    "import matplotlib.pyplot as plt\n",
    "\n",
    "plt.style.use('ggplot')"
   ]
  },
  {
   "cell_type": "markdown",
   "id": "56fbd22c",
   "metadata": {},
   "source": [
    "# 2. Carregando Dataset"
   ]
  },
  {
   "cell_type": "code",
   "execution_count": 13,
   "id": "3c993b5d",
   "metadata": {},
   "outputs": [],
   "source": [
    "rh = pd.read_csv('train.csv')"
   ]
  },
  {
   "cell_type": "code",
   "execution_count": 14,
   "id": "2a75c9ad",
   "metadata": {},
   "outputs": [
    {
     "data": {
      "text/html": [
       "<div>\n",
       "<style scoped>\n",
       "    .dataframe tbody tr th:only-of-type {\n",
       "        vertical-align: middle;\n",
       "    }\n",
       "\n",
       "    .dataframe tbody tr th {\n",
       "        vertical-align: top;\n",
       "    }\n",
       "\n",
       "    .dataframe thead th {\n",
       "        text-align: right;\n",
       "    }\n",
       "</style>\n",
       "<table border=\"1\" class=\"dataframe\">\n",
       "  <thead>\n",
       "    <tr style=\"text-align: right;\">\n",
       "      <th></th>\n",
       "      <th>Age</th>\n",
       "      <th>Attrition</th>\n",
       "      <th>BusinessTravel</th>\n",
       "      <th>DailyRate</th>\n",
       "      <th>Department</th>\n",
       "      <th>DistanceFromHome</th>\n",
       "      <th>Education</th>\n",
       "      <th>EducationField</th>\n",
       "      <th>EmployeeCount</th>\n",
       "      <th>EmployeeNumber</th>\n",
       "      <th>...</th>\n",
       "      <th>RelationshipSatisfaction</th>\n",
       "      <th>StandardHours</th>\n",
       "      <th>StockOptionLevel</th>\n",
       "      <th>TotalWorkingYears</th>\n",
       "      <th>TrainingTimesLastYear</th>\n",
       "      <th>WorkLifeBalance</th>\n",
       "      <th>YearsAtCompany</th>\n",
       "      <th>YearsInCurrentRole</th>\n",
       "      <th>YearsSinceLastPromotion</th>\n",
       "      <th>YearsWithCurrManager</th>\n",
       "    </tr>\n",
       "  </thead>\n",
       "  <tbody>\n",
       "    <tr>\n",
       "      <th>0</th>\n",
       "      <td>41</td>\n",
       "      <td>1</td>\n",
       "      <td>Travel_Rarely</td>\n",
       "      <td>1102</td>\n",
       "      <td>Sales</td>\n",
       "      <td>1</td>\n",
       "      <td>2</td>\n",
       "      <td>Life Sciences</td>\n",
       "      <td>1</td>\n",
       "      <td>1</td>\n",
       "      <td>...</td>\n",
       "      <td>1</td>\n",
       "      <td>80</td>\n",
       "      <td>0</td>\n",
       "      <td>8</td>\n",
       "      <td>0</td>\n",
       "      <td>1</td>\n",
       "      <td>6</td>\n",
       "      <td>4</td>\n",
       "      <td>0</td>\n",
       "      <td>5</td>\n",
       "    </tr>\n",
       "    <tr>\n",
       "      <th>1</th>\n",
       "      <td>49</td>\n",
       "      <td>0</td>\n",
       "      <td>Travel_Frequently</td>\n",
       "      <td>279</td>\n",
       "      <td>Research &amp; Development</td>\n",
       "      <td>8</td>\n",
       "      <td>1</td>\n",
       "      <td>Life Sciences</td>\n",
       "      <td>1</td>\n",
       "      <td>2</td>\n",
       "      <td>...</td>\n",
       "      <td>4</td>\n",
       "      <td>80</td>\n",
       "      <td>1</td>\n",
       "      <td>10</td>\n",
       "      <td>3</td>\n",
       "      <td>3</td>\n",
       "      <td>10</td>\n",
       "      <td>7</td>\n",
       "      <td>1</td>\n",
       "      <td>7</td>\n",
       "    </tr>\n",
       "    <tr>\n",
       "      <th>2</th>\n",
       "      <td>37</td>\n",
       "      <td>1</td>\n",
       "      <td>Travel_Rarely</td>\n",
       "      <td>1373</td>\n",
       "      <td>Research &amp; Development</td>\n",
       "      <td>2</td>\n",
       "      <td>2</td>\n",
       "      <td>Other</td>\n",
       "      <td>1</td>\n",
       "      <td>4</td>\n",
       "      <td>...</td>\n",
       "      <td>2</td>\n",
       "      <td>80</td>\n",
       "      <td>0</td>\n",
       "      <td>7</td>\n",
       "      <td>3</td>\n",
       "      <td>3</td>\n",
       "      <td>0</td>\n",
       "      <td>0</td>\n",
       "      <td>0</td>\n",
       "      <td>0</td>\n",
       "    </tr>\n",
       "    <tr>\n",
       "      <th>3</th>\n",
       "      <td>33</td>\n",
       "      <td>0</td>\n",
       "      <td>Travel_Frequently</td>\n",
       "      <td>1392</td>\n",
       "      <td>Research &amp; Development</td>\n",
       "      <td>3</td>\n",
       "      <td>4</td>\n",
       "      <td>Life Sciences</td>\n",
       "      <td>1</td>\n",
       "      <td>5</td>\n",
       "      <td>...</td>\n",
       "      <td>3</td>\n",
       "      <td>80</td>\n",
       "      <td>0</td>\n",
       "      <td>8</td>\n",
       "      <td>3</td>\n",
       "      <td>3</td>\n",
       "      <td>8</td>\n",
       "      <td>7</td>\n",
       "      <td>3</td>\n",
       "      <td>0</td>\n",
       "    </tr>\n",
       "    <tr>\n",
       "      <th>4</th>\n",
       "      <td>27</td>\n",
       "      <td>0</td>\n",
       "      <td>Travel_Rarely</td>\n",
       "      <td>591</td>\n",
       "      <td>Research &amp; Development</td>\n",
       "      <td>2</td>\n",
       "      <td>1</td>\n",
       "      <td>Medical</td>\n",
       "      <td>1</td>\n",
       "      <td>7</td>\n",
       "      <td>...</td>\n",
       "      <td>4</td>\n",
       "      <td>80</td>\n",
       "      <td>1</td>\n",
       "      <td>6</td>\n",
       "      <td>3</td>\n",
       "      <td>3</td>\n",
       "      <td>2</td>\n",
       "      <td>2</td>\n",
       "      <td>2</td>\n",
       "      <td>2</td>\n",
       "    </tr>\n",
       "  </tbody>\n",
       "</table>\n",
       "<p>5 rows × 35 columns</p>\n",
       "</div>"
      ],
      "text/plain": [
       "   Age  Attrition     BusinessTravel  DailyRate              Department  \\\n",
       "0   41          1      Travel_Rarely       1102                   Sales   \n",
       "1   49          0  Travel_Frequently        279  Research & Development   \n",
       "2   37          1      Travel_Rarely       1373  Research & Development   \n",
       "3   33          0  Travel_Frequently       1392  Research & Development   \n",
       "4   27          0      Travel_Rarely        591  Research & Development   \n",
       "\n",
       "   DistanceFromHome  Education EducationField  EmployeeCount  EmployeeNumber  \\\n",
       "0                 1          2  Life Sciences              1               1   \n",
       "1                 8          1  Life Sciences              1               2   \n",
       "2                 2          2          Other              1               4   \n",
       "3                 3          4  Life Sciences              1               5   \n",
       "4                 2          1        Medical              1               7   \n",
       "\n",
       "   ...  RelationshipSatisfaction StandardHours  StockOptionLevel  \\\n",
       "0  ...                         1            80                 0   \n",
       "1  ...                         4            80                 1   \n",
       "2  ...                         2            80                 0   \n",
       "3  ...                         3            80                 0   \n",
       "4  ...                         4            80                 1   \n",
       "\n",
       "   TotalWorkingYears  TrainingTimesLastYear WorkLifeBalance  YearsAtCompany  \\\n",
       "0                  8                      0               1               6   \n",
       "1                 10                      3               3              10   \n",
       "2                  7                      3               3               0   \n",
       "3                  8                      3               3               8   \n",
       "4                  6                      3               3               2   \n",
       "\n",
       "  YearsInCurrentRole  YearsSinceLastPromotion  YearsWithCurrManager  \n",
       "0                  4                        0                     5  \n",
       "1                  7                        1                     7  \n",
       "2                  0                        0                     0  \n",
       "3                  7                        3                     0  \n",
       "4                  2                        2                     2  \n",
       "\n",
       "[5 rows x 35 columns]"
      ]
     },
     "execution_count": 14,
     "metadata": {},
     "output_type": "execute_result"
    }
   ],
   "source": [
    "rh.head()"
   ]
  },
  {
   "cell_type": "code",
   "execution_count": 15,
   "id": "b2799e16",
   "metadata": {},
   "outputs": [
    {
     "name": "stdout",
     "output_type": "stream",
     "text": [
      "<class 'pandas.core.frame.DataFrame'>\n",
      "RangeIndex: 1058 entries, 0 to 1057\n",
      "Data columns (total 35 columns):\n",
      " #   Column                    Non-Null Count  Dtype \n",
      "---  ------                    --------------  ----- \n",
      " 0   Age                       1058 non-null   int64 \n",
      " 1   Attrition                 1058 non-null   int64 \n",
      " 2   BusinessTravel            1058 non-null   object\n",
      " 3   DailyRate                 1058 non-null   int64 \n",
      " 4   Department                1058 non-null   object\n",
      " 5   DistanceFromHome          1058 non-null   int64 \n",
      " 6   Education                 1058 non-null   int64 \n",
      " 7   EducationField            1058 non-null   object\n",
      " 8   EmployeeCount             1058 non-null   int64 \n",
      " 9   EmployeeNumber            1058 non-null   int64 \n",
      " 10  EnvironmentSatisfaction   1058 non-null   int64 \n",
      " 11  Gender                    1058 non-null   object\n",
      " 12  HourlyRate                1058 non-null   int64 \n",
      " 13  JobInvolvement            1058 non-null   int64 \n",
      " 14  JobLevel                  1058 non-null   int64 \n",
      " 15  JobRole                   1058 non-null   object\n",
      " 16  JobSatisfaction           1058 non-null   int64 \n",
      " 17  MaritalStatus             1058 non-null   object\n",
      " 18  MonthlyIncome             1058 non-null   int64 \n",
      " 19  MonthlyRate               1058 non-null   int64 \n",
      " 20  NumCompaniesWorked        1058 non-null   int64 \n",
      " 21  Over18                    1058 non-null   object\n",
      " 22  OverTime                  1058 non-null   object\n",
      " 23  PercentSalaryHike         1058 non-null   int64 \n",
      " 24  PerformanceRating         1058 non-null   int64 \n",
      " 25  RelationshipSatisfaction  1058 non-null   int64 \n",
      " 26  StandardHours             1058 non-null   int64 \n",
      " 27  StockOptionLevel          1058 non-null   int64 \n",
      " 28  TotalWorkingYears         1058 non-null   int64 \n",
      " 29  TrainingTimesLastYear     1058 non-null   int64 \n",
      " 30  WorkLifeBalance           1058 non-null   int64 \n",
      " 31  YearsAtCompany            1058 non-null   int64 \n",
      " 32  YearsInCurrentRole        1058 non-null   int64 \n",
      " 33  YearsSinceLastPromotion   1058 non-null   int64 \n",
      " 34  YearsWithCurrManager      1058 non-null   int64 \n",
      "dtypes: int64(27), object(8)\n",
      "memory usage: 289.4+ KB\n"
     ]
    }
   ],
   "source": [
    "rh.info()"
   ]
  },
  {
   "cell_type": "code",
   "execution_count": 16,
   "id": "83d1af1d",
   "metadata": {},
   "outputs": [
    {
     "data": {
      "text/plain": [
       "(1058, 35)"
      ]
     },
     "execution_count": 16,
     "metadata": {},
     "output_type": "execute_result"
    }
   ],
   "source": [
    "rh.shape"
   ]
  },
  {
   "cell_type": "markdown",
   "id": "ff852db8",
   "metadata": {},
   "source": [
    "# 3. Analise de Dados"
   ]
  },
  {
   "cell_type": "code",
   "execution_count": 17,
   "id": "0c00736a",
   "metadata": {},
   "outputs": [
    {
     "data": {
      "image/png": "[encoded data removed]",
      "text/plain": [
       "<Figure size 640x480 with 1 Axes>"
      ]
     },
     "metadata": {},
     "output_type": "display_data"
    }
   ],
   "source": [
    "_ = plt.hist(rh.Age)\n",
    "_ = plt.title(\"Histograma de Idade\")"
   ]
  },
  {
   "cell_type": "code",
   "execution_count": 18,
   "id": "ac6f36f7",
   "metadata": {},
   "outputs": [
    {
     "data": {
      "image/png": "[encoded data removed]",
      "text/plain": [
       "<Figure size 640x480 with 1 Axes>"
      ]
     },
     "metadata": {},
     "output_type": "display_data"
    }
   ],
   "source": [
    "_ = plt.hist(rh.MonthlyIncome)\n",
    "_ = plt.title(\"Histograma de Salário\")"
   ]
  },
  {
   "cell_type": "code",
   "execution_count": 25,
   "id": "ef5af755",
   "metadata": {},
   "outputs": [
    {
     "data": {
      "text/plain": [
       "Male      620\n",
       "Female    438\n",
       "Name: Gender, dtype: int64"
      ]
     },
     "execution_count": 25,
     "metadata": {},
     "output_type": "execute_result"
    }
   ],
   "source": [
    "rh.Gender.value_counts()"
   ]
  },
  {
   "cell_type": "code",
   "execution_count": 26,
   "id": "f105066a",
   "metadata": {},
   "outputs": [
    {
     "data": {
      "text/plain": [
       "Life Sciences       0.412098\n",
       "Medical             0.311909\n",
       "Marketing           0.115312\n",
       "Technical Degree    0.090737\n",
       "Other               0.055766\n",
       "Human Resources     0.014178\n",
       "Name: EducationField, dtype: float64"
      ]
     },
     "execution_count": 26,
     "metadata": {},
     "output_type": "execute_result"
    }
   ],
   "source": [
    "rh.EducationField.value_counts(1)"
   ]
  },
  {
   "cell_type": "code",
   "execution_count": 1,
   "id": "46831a36",
   "metadata": {},
   "outputs": [
    {
     "ename": "NameError",
     "evalue": "name 'rh' is not defined",
     "output_type": "error",
     "traceback": [
      "\u001b[1;31m---------------------------------------------------------------------------\u001b[0m",
      "\u001b[1;31mNameError\u001b[0m                                 Traceback (most recent call last)",
      "\u001b[1;32m~\\AppData\\Local\\Temp\\ipykernel_8848\\1186502221.py\u001b[0m in \u001b[0;36m<module>\u001b[1;34m\u001b[0m\n\u001b[1;32m----> 1\u001b[1;33m \u001b[0m_\u001b[0m \u001b[1;33m=\u001b[0m \u001b[0mrh\u001b[0m\u001b[1;33m.\u001b[0m\u001b[0mEducationField\u001b[0m\u001b[1;33m.\u001b[0m\u001b[0mvalue_counts\u001b[0m\u001b[1;33m(\u001b[0m\u001b[1;36m1\u001b[0m\u001b[1;33m)\u001b[0m\u001b[1;33m.\u001b[0m\u001b[0mplot\u001b[0m\u001b[1;33m.\u001b[0m\u001b[0mbar\u001b[0m\u001b[1;33m(\u001b[0m\u001b[1;33m)\u001b[0m\u001b[1;33m\u001b[0m\u001b[1;33m\u001b[0m\u001b[0m\n\u001b[0m\u001b[0;32m      2\u001b[0m \u001b[0m_\u001b[0m \u001b[1;33m=\u001b[0m \u001b[0mplt\u001b[0m\u001b[1;33m.\u001b[0m\u001b[0mtitle\u001b[0m\u001b[1;33m(\u001b[0m\u001b[1;34m\"Headcount por Campo Educacional\"\u001b[0m\u001b[1;33m)\u001b[0m\u001b[1;33m\u001b[0m\u001b[1;33m\u001b[0m\u001b[0m\n",
      "\u001b[1;31mNameError\u001b[0m: name 'rh' is not defined"
     ]
    }
   ],
   "source": [
    "_ = rh.EducationField.value_counts(1).plot.bar()\n",
    "_ = plt.title(\"Headcount por Campo Educacional\")"
   ]
  },
  {
   "cell_type": "code",
   "execution_count": 13,
   "id": "06df5f46",
   "metadata": {},
   "outputs": [
    {
     "name": "stdout",
     "output_type": "stream",
     "text": [
      "2\n",
      "4\n",
      "24\n"
     ]
    }
   ],
   "source": [
    "x = input()\n",
    "y = input()\n",
    "print(x + y)"
   ]
  },
  {
   "cell_type": "code",
   "execution_count": null,
   "id": "0fcaa225",
   "metadata": {},
   "outputs": [],
   "source": []
  }
 ],
 "metadata": {
  "kernelspec": {
   "display_name": "Python 3 (ipykernel)",
   "language": "python",
   "name": "python3"
  },
  "language_info": {
   "codemirror_mode": {
    "name": "ipython",
    "version": 3
   },
   "file_extension": ".py",
   "mimetype": "text/x-python",
   "name": "python",
   "nbconvert_exporter": "python",
   "pygments_lexer": "ipython3",
   "version": "3.9.13"
  }
 },
 "nbformat": 4,
 "nbformat_minor": 5
}
